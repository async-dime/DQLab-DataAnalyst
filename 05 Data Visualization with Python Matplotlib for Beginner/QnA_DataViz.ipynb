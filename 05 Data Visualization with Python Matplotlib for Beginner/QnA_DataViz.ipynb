{
  "nbformat": 4,
  "nbformat_minor": 0,
  "metadata": {
    "colab": {
      "name": "QnA-DataViz.ipynb",
      "provenance": []
    },
    "kernelspec": {
      "name": "python3",
      "display_name": "Python 3"
    },
    "language_info": {
      "name": "python"
    }
  },
  "cells": [
    {
      "cell_type": "code",
      "metadata": {
        "id": "nGXHfjY0laCJ",
        "colab": {
          "base_uri": "https://localhost:8080/",
          "height": 419
        },
        "outputId": "500e7f6c-c6aa-40df-e788-7e500f446a4c"
      },
      "source": [
        "#Import library yang dibutuhkan\n",
        "import pandas as pd\n",
        "\n",
        "#Read data\n",
        "data =  pd.read_csv('https://storage.googleapis.com/dqlab-dataset/retail_raw_reduced_data_quality.csv')\n",
        "data"
      ],
      "execution_count": null,
      "outputs": [
        {
          "output_type": "execute_result",
          "data": {
            "text/html": [
              "<div>\n",
              "<style scoped>\n",
              "    .dataframe tbody tr th:only-of-type {\n",
              "        vertical-align: middle;\n",
              "    }\n",
              "\n",
              "    .dataframe tbody tr th {\n",
              "        vertical-align: top;\n",
              "    }\n",
              "\n",
              "    .dataframe thead th {\n",
              "        text-align: right;\n",
              "    }\n",
              "</style>\n",
              "<table border=\"1\" class=\"dataframe\">\n",
              "  <thead>\n",
              "    <tr style=\"text-align: right;\">\n",
              "      <th></th>\n",
              "      <th>order_id</th>\n",
              "      <th>order_date</th>\n",
              "      <th>customer_id</th>\n",
              "      <th>city</th>\n",
              "      <th>province</th>\n",
              "      <th>product_id</th>\n",
              "      <th>brand</th>\n",
              "      <th>quantity</th>\n",
              "      <th>item_price</th>\n",
              "    </tr>\n",
              "  </thead>\n",
              "  <tbody>\n",
              "    <tr>\n",
              "      <th>0</th>\n",
              "      <td>1703458</td>\n",
              "      <td>17/10/2019</td>\n",
              "      <td>14004</td>\n",
              "      <td>Jakarta Selatan</td>\n",
              "      <td>DKI Jakarta</td>\n",
              "      <td>P1910</td>\n",
              "      <td>BRAND_J</td>\n",
              "      <td>10.0</td>\n",
              "      <td>740000.0</td>\n",
              "    </tr>\n",
              "    <tr>\n",
              "      <th>1</th>\n",
              "      <td>1706815</td>\n",
              "      <td>24/10/2019</td>\n",
              "      <td>17220</td>\n",
              "      <td>Jakarta Selatan</td>\n",
              "      <td>DKI Jakarta</td>\n",
              "      <td>P2934</td>\n",
              "      <td>BRAND_R</td>\n",
              "      <td>2.0</td>\n",
              "      <td>604000.0</td>\n",
              "    </tr>\n",
              "    <tr>\n",
              "      <th>2</th>\n",
              "      <td>1710718</td>\n",
              "      <td>03/11/2019</td>\n",
              "      <td>16518</td>\n",
              "      <td>Jakarta Utara</td>\n",
              "      <td>DKI Jakarta</td>\n",
              "      <td>P0908</td>\n",
              "      <td>BRAND_C</td>\n",
              "      <td>8.0</td>\n",
              "      <td>1045000.0</td>\n",
              "    </tr>\n",
              "    <tr>\n",
              "      <th>3</th>\n",
              "      <td>1683592</td>\n",
              "      <td>19/08/2019</td>\n",
              "      <td>16364</td>\n",
              "      <td>Jakarta Barat</td>\n",
              "      <td>DKI Jakarta</td>\n",
              "      <td>P0128</td>\n",
              "      <td>BRAND_A</td>\n",
              "      <td>4.0</td>\n",
              "      <td>205000.0</td>\n",
              "    </tr>\n",
              "    <tr>\n",
              "      <th>4</th>\n",
              "      <td>1702573</td>\n",
              "      <td>16/10/2019</td>\n",
              "      <td>15696</td>\n",
              "      <td>Jakarta Timur</td>\n",
              "      <td>DKI Jakarta</td>\n",
              "      <td>P2968</td>\n",
              "      <td>BRAND_R</td>\n",
              "      <td>2.0</td>\n",
              "      <td>NaN</td>\n",
              "    </tr>\n",
              "    <tr>\n",
              "      <th>...</th>\n",
              "      <td>...</td>\n",
              "      <td>...</td>\n",
              "      <td>...</td>\n",
              "      <td>...</td>\n",
              "      <td>...</td>\n",
              "      <td>...</td>\n",
              "      <td>...</td>\n",
              "      <td>...</td>\n",
              "      <td>...</td>\n",
              "    </tr>\n",
              "    <tr>\n",
              "      <th>4995</th>\n",
              "      <td>1724011</td>\n",
              "      <td>01/12/2019</td>\n",
              "      <td>12838</td>\n",
              "      <td>Tangerang</td>\n",
              "      <td>Banten</td>\n",
              "      <td>P3047</td>\n",
              "      <td>BRAND_R</td>\n",
              "      <td>2.0</td>\n",
              "      <td>450000.0</td>\n",
              "    </tr>\n",
              "    <tr>\n",
              "      <th>4996</th>\n",
              "      <td>1676302</td>\n",
              "      <td>28/07/2019</td>\n",
              "      <td>13833</td>\n",
              "      <td>Bogor</td>\n",
              "      <td>Jawa Barat</td>\n",
              "      <td>P0760</td>\n",
              "      <td>BRAND_C</td>\n",
              "      <td>3.0</td>\n",
              "      <td>1465000.0</td>\n",
              "    </tr>\n",
              "    <tr>\n",
              "      <th>4997</th>\n",
              "      <td>1706071</td>\n",
              "      <td>23/10/2019</td>\n",
              "      <td>16332</td>\n",
              "      <td>Jakarta Timur</td>\n",
              "      <td>DKI Jakarta</td>\n",
              "      <td>P1681</td>\n",
              "      <td>BRAND_H</td>\n",
              "      <td>4.0</td>\n",
              "      <td>747000.0</td>\n",
              "    </tr>\n",
              "    <tr>\n",
              "      <th>4998</th>\n",
              "      <td>1703620</td>\n",
              "      <td>17/10/2019</td>\n",
              "      <td>13055</td>\n",
              "      <td>Jakarta Barat</td>\n",
              "      <td>DKI Jakarta</td>\n",
              "      <td>P0757</td>\n",
              "      <td>BRAND_C</td>\n",
              "      <td>8.0</td>\n",
              "      <td>695000.0</td>\n",
              "    </tr>\n",
              "    <tr>\n",
              "      <th>4999</th>\n",
              "      <td>1720036</td>\n",
              "      <td>24/11/2019</td>\n",
              "      <td>17609</td>\n",
              "      <td>Jakarta Pusat</td>\n",
              "      <td>DKI Jakarta</td>\n",
              "      <td>P3334</td>\n",
              "      <td>BRAND_S</td>\n",
              "      <td>1.0</td>\n",
              "      <td>1045000.0</td>\n",
              "    </tr>\n",
              "  </tbody>\n",
              "</table>\n",
              "<p>5000 rows × 9 columns</p>\n",
              "</div>"
            ],
            "text/plain": [
              "      order_id  order_date  customer_id  ...    brand quantity item_price\n",
              "0      1703458  17/10/2019        14004  ...  BRAND_J     10.0   740000.0\n",
              "1      1706815  24/10/2019        17220  ...  BRAND_R      2.0   604000.0\n",
              "2      1710718  03/11/2019        16518  ...  BRAND_C      8.0  1045000.0\n",
              "3      1683592  19/08/2019        16364  ...  BRAND_A      4.0   205000.0\n",
              "4      1702573  16/10/2019        15696  ...  BRAND_R      2.0        NaN\n",
              "...        ...         ...          ...  ...      ...      ...        ...\n",
              "4995   1724011  01/12/2019        12838  ...  BRAND_R      2.0   450000.0\n",
              "4996   1676302  28/07/2019        13833  ...  BRAND_C      3.0  1465000.0\n",
              "4997   1706071  23/10/2019        16332  ...  BRAND_H      4.0   747000.0\n",
              "4998   1703620  17/10/2019        13055  ...  BRAND_C      8.0   695000.0\n",
              "4999   1720036  24/11/2019        17609  ...  BRAND_S      1.0  1045000.0\n",
              "\n",
              "[5000 rows x 9 columns]"
            ]
          },
          "metadata": {},
          "execution_count": 1
        }
      ]
    },
    {
      "cell_type": "code",
      "metadata": {
        "colab": {
          "base_uri": "https://localhost:8080/"
        },
        "id": "vEvG7wWmnU2n",
        "outputId": "b7b35f8e-1795-49cd-d6ef-ccaa516e66a5"
      },
      "source": [
        "#Mengubah tipedata (memastikan tipedata sesuai dengan data aslinya)\n",
        "#1. string atau object menjadi datetime\n",
        "data['order_date'] = pd.to_datetime(data['order_date'], dayfirst=True)\n",
        "\n",
        "#2. integer menjadi string\n",
        "data[['order_id','customer_id']] = data[['order_id','customer_id']].astype('str')\n",
        "\n",
        "data.info()"
      ],
      "execution_count": 3,
      "outputs": [
        {
          "output_type": "stream",
          "name": "stdout",
          "text": [
            "<class 'pandas.core.frame.DataFrame'>\n",
            "RangeIndex: 5000 entries, 0 to 4999\n",
            "Data columns (total 9 columns):\n",
            " #   Column       Non-Null Count  Dtype         \n",
            "---  ------       --------------  -----         \n",
            " 0   order_id     5000 non-null   object        \n",
            " 1   order_date   5000 non-null   datetime64[ns]\n",
            " 2   customer_id  5000 non-null   object        \n",
            " 3   city         4984 non-null   object        \n",
            " 4   province     4988 non-null   object        \n",
            " 5   product_id   4989 non-null   object        \n",
            " 6   brand        5000 non-null   object        \n",
            " 7   quantity     4986 non-null   float64       \n",
            " 8   item_price   4987 non-null   float64       \n",
            "dtypes: datetime64[ns](1), float64(2), object(6)\n",
            "memory usage: 351.7+ KB\n"
          ]
        }
      ]
    },
    {
      "cell_type": "markdown",
      "metadata": {
        "id": "DP16yvNjqVMP"
      },
      "source": [
        "# **Pertanyaan 1** : Membuat heatmap matriks korelasi dengan anotasi"
      ]
    },
    {
      "cell_type": "code",
      "metadata": {
        "colab": {
          "base_uri": "https://localhost:8080/",
          "height": 111
        },
        "id": "GttNnz-Ln9xN",
        "outputId": "037040af-52fd-4e42-d69e-d648d808b6f0"
      },
      "source": [
        "#Tampilkan matriks korelasi\n",
        "matrikskorelasi = data.corr()\n",
        "matrikskorelasi"
      ],
      "execution_count": 10,
      "outputs": [
        {
          "output_type": "execute_result",
          "data": {
            "text/html": [
              "<div>\n",
              "<style scoped>\n",
              "    .dataframe tbody tr th:only-of-type {\n",
              "        vertical-align: middle;\n",
              "    }\n",
              "\n",
              "    .dataframe tbody tr th {\n",
              "        vertical-align: top;\n",
              "    }\n",
              "\n",
              "    .dataframe thead th {\n",
              "        text-align: right;\n",
              "    }\n",
              "</style>\n",
              "<table border=\"1\" class=\"dataframe\">\n",
              "  <thead>\n",
              "    <tr style=\"text-align: right;\">\n",
              "      <th></th>\n",
              "      <th>quantity</th>\n",
              "      <th>item_price</th>\n",
              "    </tr>\n",
              "  </thead>\n",
              "  <tbody>\n",
              "    <tr>\n",
              "      <th>quantity</th>\n",
              "      <td>1.000000</td>\n",
              "      <td>-0.133936</td>\n",
              "    </tr>\n",
              "    <tr>\n",
              "      <th>item_price</th>\n",
              "      <td>-0.133936</td>\n",
              "      <td>1.000000</td>\n",
              "    </tr>\n",
              "  </tbody>\n",
              "</table>\n",
              "</div>"
            ],
            "text/plain": [
              "            quantity  item_price\n",
              "quantity    1.000000   -0.133936\n",
              "item_price -0.133936    1.000000"
            ]
          },
          "metadata": {},
          "execution_count": 10
        }
      ]
    },
    {
      "cell_type": "code",
      "metadata": {
        "colab": {
          "base_uri": "https://localhost:8080/",
          "height": 508
        },
        "id": "iGVuPE25oI-f",
        "outputId": "cfe312f4-b330-43e9-c91b-b460b420a3af"
      },
      "source": [
        "import seaborn as sns\n",
        "import matplotlib.pyplot as plt\n",
        "\n",
        "# Mengatur panjang dan lebar grafik\n",
        "plt.figure(figsize=(10, 8))\n",
        "\n",
        "# Mengatur rentang nilai yang ingin ditampilkan dari -1 (vmin) sampai 1 (vmax). Annot = True berarti menampilkan anotasi (nilai eksak korelasi pada grafik)\n",
        "heatmap = sns.heatmap(matrikskorelasi, vmin = -1, vmax = 1, annot = True)\n",
        "\n",
        "# Menambahkan judul pada grafik\n",
        "heatmap.set_title('Korelasi Data Retail', fontdict={'fontsize' : 15}, pad = 12);"
      ],
      "execution_count": 19,
      "outputs": [
        {
          "output_type": "display_data",
          "data": {
            "image/png": "[encoded data removed]",
            "text/plain": [
              "<Figure size 720x576 with 2 Axes>"
            ]
          },
          "metadata": {
            "needs_background": "light"
          }
        }
      ]
    },
    {
      "cell_type": "markdown",
      "metadata": {
        "id": "qBI95KZyMEw1"
      },
      "source": [
        "# **Pertanyaan 2** : Menampilkan anotasi nilai pada grafik"
      ]
    },
    {
      "cell_type": "code",
      "metadata": {
        "colab": {
          "base_uri": "https://localhost:8080/",
          "height": 419
        },
        "id": "wLNzJhUhGZPC",
        "outputId": "0f661514-4f7d-4a76-9e1d-47e6493c6589"
      },
      "source": [
        "import datetime as dt\n",
        "\n",
        "#Untuk mendapatkan bulan dan tahun pada kolom order_date (string/object -> datetime)\n",
        "data['order_month'] = data['order_date'].astype('str').apply(lambda x: dt.datetime.strptime(x,\"%Y-%m-%d\").strftime('%Y-%m'))\n",
        "\n",
        "#Tambahkan kolom gmv (hasil perkalian harga barang dan kuantitas)\n",
        "data['gmv'] = data['item_price'] * data['quantity']\n",
        "\n",
        "#Tampilkan data\n",
        "data"
      ],
      "execution_count": 35,
      "outputs": [
        {
          "output_type": "execute_result",
          "data": {
            "text/html": [
              "<div>\n",
              "<style scoped>\n",
              "    .dataframe tbody tr th:only-of-type {\n",
              "        vertical-align: middle;\n",
              "    }\n",
              "\n",
              "    .dataframe tbody tr th {\n",
              "        vertical-align: top;\n",
              "    }\n",
              "\n",
              "    .dataframe thead th {\n",
              "        text-align: right;\n",
              "    }\n",
              "</style>\n",
              "<table border=\"1\" class=\"dataframe\">\n",
              "  <thead>\n",
              "    <tr style=\"text-align: right;\">\n",
              "      <th></th>\n",
              "      <th>order_id</th>\n",
              "      <th>order_date</th>\n",
              "      <th>customer_id</th>\n",
              "      <th>city</th>\n",
              "      <th>province</th>\n",
              "      <th>product_id</th>\n",
              "      <th>brand</th>\n",
              "      <th>quantity</th>\n",
              "      <th>item_price</th>\n",
              "      <th>order_month</th>\n",
              "      <th>gmv</th>\n",
              "    </tr>\n",
              "  </thead>\n",
              "  <tbody>\n",
              "    <tr>\n",
              "      <th>0</th>\n",
              "      <td>1703458</td>\n",
              "      <td>2019-10-17</td>\n",
              "      <td>14004</td>\n",
              "      <td>Jakarta Selatan</td>\n",
              "      <td>DKI Jakarta</td>\n",
              "      <td>P1910</td>\n",
              "      <td>BRAND_J</td>\n",
              "      <td>10.0</td>\n",
              "      <td>740000.0</td>\n",
              "      <td>2019-10</td>\n",
              "      <td>7400000.0</td>\n",
              "    </tr>\n",
              "    <tr>\n",
              "      <th>1</th>\n",
              "      <td>1706815</td>\n",
              "      <td>2019-10-24</td>\n",
              "      <td>17220</td>\n",
              "      <td>Jakarta Selatan</td>\n",
              "      <td>DKI Jakarta</td>\n",
              "      <td>P2934</td>\n",
              "      <td>BRAND_R</td>\n",
              "      <td>2.0</td>\n",
              "      <td>604000.0</td>\n",
              "      <td>2019-10</td>\n",
              "      <td>1208000.0</td>\n",
              "    </tr>\n",
              "    <tr>\n",
              "      <th>2</th>\n",
              "      <td>1710718</td>\n",
              "      <td>2019-11-03</td>\n",
              "      <td>16518</td>\n",
              "      <td>Jakarta Utara</td>\n",
              "      <td>DKI Jakarta</td>\n",
              "      <td>P0908</td>\n",
              "      <td>BRAND_C</td>\n",
              "      <td>8.0</td>\n",
              "      <td>1045000.0</td>\n",
              "      <td>2019-11</td>\n",
              "      <td>8360000.0</td>\n",
              "    </tr>\n",
              "    <tr>\n",
              "      <th>3</th>\n",
              "      <td>1683592</td>\n",
              "      <td>2019-08-19</td>\n",
              "      <td>16364</td>\n",
              "      <td>Jakarta Barat</td>\n",
              "      <td>DKI Jakarta</td>\n",
              "      <td>P0128</td>\n",
              "      <td>BRAND_A</td>\n",
              "      <td>4.0</td>\n",
              "      <td>205000.0</td>\n",
              "      <td>2019-08</td>\n",
              "      <td>820000.0</td>\n",
              "    </tr>\n",
              "    <tr>\n",
              "      <th>4</th>\n",
              "      <td>1702573</td>\n",
              "      <td>2019-10-16</td>\n",
              "      <td>15696</td>\n",
              "      <td>Jakarta Timur</td>\n",
              "      <td>DKI Jakarta</td>\n",
              "      <td>P2968</td>\n",
              "      <td>BRAND_R</td>\n",
              "      <td>2.0</td>\n",
              "      <td>NaN</td>\n",
              "      <td>2019-10</td>\n",
              "      <td>NaN</td>\n",
              "    </tr>\n",
              "    <tr>\n",
              "      <th>...</th>\n",
              "      <td>...</td>\n",
              "      <td>...</td>\n",
              "      <td>...</td>\n",
              "      <td>...</td>\n",
              "      <td>...</td>\n",
              "      <td>...</td>\n",
              "      <td>...</td>\n",
              "      <td>...</td>\n",
              "      <td>...</td>\n",
              "      <td>...</td>\n",
              "      <td>...</td>\n",
              "    </tr>\n",
              "    <tr>\n",
              "      <th>4995</th>\n",
              "      <td>1724011</td>\n",
              "      <td>2019-12-01</td>\n",
              "      <td>12838</td>\n",
              "      <td>Tangerang</td>\n",
              "      <td>Banten</td>\n",
              "      <td>P3047</td>\n",
              "      <td>BRAND_R</td>\n",
              "      <td>2.0</td>\n",
              "      <td>450000.0</td>\n",
              "      <td>2019-12</td>\n",
              "      <td>900000.0</td>\n",
              "    </tr>\n",
              "    <tr>\n",
              "      <th>4996</th>\n",
              "      <td>1676302</td>\n",
              "      <td>2019-07-28</td>\n",
              "      <td>13833</td>\n",
              "      <td>Bogor</td>\n",
              "      <td>Jawa Barat</td>\n",
              "      <td>P0760</td>\n",
              "      <td>BRAND_C</td>\n",
              "      <td>3.0</td>\n",
              "      <td>1465000.0</td>\n",
              "      <td>2019-07</td>\n",
              "      <td>4395000.0</td>\n",
              "    </tr>\n",
              "    <tr>\n",
              "      <th>4997</th>\n",
              "      <td>1706071</td>\n",
              "      <td>2019-10-23</td>\n",
              "      <td>16332</td>\n",
              "      <td>Jakarta Timur</td>\n",
              "      <td>DKI Jakarta</td>\n",
              "      <td>P1681</td>\n",
              "      <td>BRAND_H</td>\n",
              "      <td>4.0</td>\n",
              "      <td>747000.0</td>\n",
              "      <td>2019-10</td>\n",
              "      <td>2988000.0</td>\n",
              "    </tr>\n",
              "    <tr>\n",
              "      <th>4998</th>\n",
              "      <td>1703620</td>\n",
              "      <td>2019-10-17</td>\n",
              "      <td>13055</td>\n",
              "      <td>Jakarta Barat</td>\n",
              "      <td>DKI Jakarta</td>\n",
              "      <td>P0757</td>\n",
              "      <td>BRAND_C</td>\n",
              "      <td>8.0</td>\n",
              "      <td>695000.0</td>\n",
              "      <td>2019-10</td>\n",
              "      <td>5560000.0</td>\n",
              "    </tr>\n",
              "    <tr>\n",
              "      <th>4999</th>\n",
              "      <td>1720036</td>\n",
              "      <td>2019-11-24</td>\n",
              "      <td>17609</td>\n",
              "      <td>Jakarta Pusat</td>\n",
              "      <td>DKI Jakarta</td>\n",
              "      <td>P3334</td>\n",
              "      <td>BRAND_S</td>\n",
              "      <td>1.0</td>\n",
              "      <td>1045000.0</td>\n",
              "      <td>2019-11</td>\n",
              "      <td>1045000.0</td>\n",
              "    </tr>\n",
              "  </tbody>\n",
              "</table>\n",
              "<p>5000 rows × 11 columns</p>\n",
              "</div>"
            ],
            "text/plain": [
              "     order_id order_date customer_id  ... item_price order_month        gmv\n",
              "0     1703458 2019-10-17       14004  ...   740000.0     2019-10  7400000.0\n",
              "1     1706815 2019-10-24       17220  ...   604000.0     2019-10  1208000.0\n",
              "2     1710718 2019-11-03       16518  ...  1045000.0     2019-11  8360000.0\n",
              "3     1683592 2019-08-19       16364  ...   205000.0     2019-08   820000.0\n",
              "4     1702573 2019-10-16       15696  ...        NaN     2019-10        NaN\n",
              "...       ...        ...         ...  ...        ...         ...        ...\n",
              "4995  1724011 2019-12-01       12838  ...   450000.0     2019-12   900000.0\n",
              "4996  1676302 2019-07-28       13833  ...  1465000.0     2019-07  4395000.0\n",
              "4997  1706071 2019-10-23       16332  ...   747000.0     2019-10  2988000.0\n",
              "4998  1703620 2019-10-17       13055  ...   695000.0     2019-10  5560000.0\n",
              "4999  1720036 2019-11-24       17609  ...  1045000.0     2019-11  1045000.0\n",
              "\n",
              "[5000 rows x 11 columns]"
            ]
          },
          "metadata": {},
          "execution_count": 35
        }
      ]
    },
    {
      "cell_type": "code",
      "metadata": {
        "colab": {
          "base_uri": "https://localhost:8080/",
          "height": 235
        },
        "id": "9O5S9l0KKpja",
        "outputId": "596f7853-dfec-46cd-c15d-8a03b7ec4775"
      },
      "source": [
        "#Hitung jumlah gmv yang dikelompokkan berdasarkan bulan - tahun\n",
        "totalgmvpermonth = data.groupby('order_month')['gmv'].sum().reset_index()\n",
        "\n",
        "#Tampilkan data\n",
        "totalgmvpermonth"
      ],
      "execution_count": 38,
      "outputs": [
        {
          "output_type": "execute_result",
          "data": {
            "text/html": [
              "<div>\n",
              "<style scoped>\n",
              "    .dataframe tbody tr th:only-of-type {\n",
              "        vertical-align: middle;\n",
              "    }\n",
              "\n",
              "    .dataframe tbody tr th {\n",
              "        vertical-align: top;\n",
              "    }\n",
              "\n",
              "    .dataframe thead th {\n",
              "        text-align: right;\n",
              "    }\n",
              "</style>\n",
              "<table border=\"1\" class=\"dataframe\">\n",
              "  <thead>\n",
              "    <tr style=\"text-align: right;\">\n",
              "      <th></th>\n",
              "      <th>order_month</th>\n",
              "      <th>gmv</th>\n",
              "    </tr>\n",
              "  </thead>\n",
              "  <tbody>\n",
              "    <tr>\n",
              "      <th>0</th>\n",
              "      <td>2019-07</td>\n",
              "      <td>3.494561e+09</td>\n",
              "    </tr>\n",
              "    <tr>\n",
              "      <th>1</th>\n",
              "      <td>2019-08</td>\n",
              "      <td>4.448638e+09</td>\n",
              "    </tr>\n",
              "    <tr>\n",
              "      <th>2</th>\n",
              "      <td>2019-09</td>\n",
              "      <td>3.937725e+09</td>\n",
              "    </tr>\n",
              "    <tr>\n",
              "      <th>3</th>\n",
              "      <td>2019-10</td>\n",
              "      <td>6.635781e+09</td>\n",
              "    </tr>\n",
              "    <tr>\n",
              "      <th>4</th>\n",
              "      <td>2019-11</td>\n",
              "      <td>6.178094e+09</td>\n",
              "    </tr>\n",
              "    <tr>\n",
              "      <th>5</th>\n",
              "      <td>2019-12</td>\n",
              "      <td>8.092659e+09</td>\n",
              "    </tr>\n",
              "  </tbody>\n",
              "</table>\n",
              "</div>"
            ],
            "text/plain": [
              "  order_month           gmv\n",
              "0     2019-07  3.494561e+09\n",
              "1     2019-08  4.448638e+09\n",
              "2     2019-09  3.937725e+09\n",
              "3     2019-10  6.635781e+09\n",
              "4     2019-11  6.178094e+09\n",
              "5     2019-12  8.092659e+09"
            ]
          },
          "metadata": {},
          "execution_count": 38
        }
      ]
    },
    {
      "cell_type": "code",
      "metadata": {
        "colab": {
          "base_uri": "https://localhost:8080/",
          "height": 537
        },
        "id": "UK6VubQTF9pC",
        "outputId": "65ec3049-a7e2-4a51-f215-cc7be599312b"
      },
      "source": [
        "import matplotlib.pyplot as plt\n",
        "import numpy as np\n",
        "\n",
        "#Definisikan nilai\n",
        "nilaix = totalgmvpermonth['order_month']\n",
        "nilaiy = totalgmvpermonth['gmv']\n",
        "\n",
        "#Mengatur panjang - lebar tampilan\n",
        "plt.figure(figsize=(15, 8))\n",
        "\n",
        "#Plot grafik\n",
        "plt.plot(nilaix, nilaiy)\n",
        "\n",
        "#Menambahkan judul pada grafik\n",
        "plt.title('Monthly GMV Year 2019', loc='center', pad=20, fontsize=20, color='blue')\n",
        "\n",
        "#Menambahkan label/keterangan pada x-axis\n",
        "plt.xlabel('Order Month', fontsize=15)\n",
        "\n",
        "#Menambahkan label/keterangan pada y-axis\n",
        "plt.ylabel('Total Amount', fontsize=15)\n",
        "\n",
        "#Tambahkan grid (garis bantu bayangan) dengan ketebalan 1 dan tipe garis = :\n",
        "plt.grid(color='darkgray', linestyle=':', linewidth=1)\n",
        "\n",
        "#Seting plot grafik dengan nilai minimum pada y sebesar 10\n",
        "plt.ylim(ymin = 20)\n",
        "\n",
        "# Menampilkan anotasi per masing2 titik\n",
        "for x,y in zip(nilaix, nilaiy):\n",
        "    plt.annotate(y,                           # Nilai anotasi yang ingin ditampilkan\n",
        "                 (x,y),                       # Nilai x dan y pada grafik\n",
        "                 textcoords=\"offset points\",  # Posisi teks anotasi\n",
        "                 xytext = (0,15),             # Jarak teks ke titik\n",
        "                 ha='center')                 # Mengatur posisi anotasi"
      ],
      "execution_count": 64,
      "outputs": [
        {
          "output_type": "display_data",
          "data": {
            "image/png": "[encoded data removed]",
            "text/plain": [
              "<Figure size 1080x576 with 1 Axes>"
            ]
          },
          "metadata": {}
        }
      ]
    },
    {
      "cell_type": "markdown",
      "metadata": {
        "id": "bznjOACKS5Jv"
      },
      "source": [
        "# **Pertanyaan 3** : Menggambar Grafik dalam 1 Frame"
      ]
    },
    {
      "cell_type": "code",
      "metadata": {
        "colab": {
          "base_uri": "https://localhost:8080/",
          "height": 626
        },
        "id": "qFhm0so6OkIs",
        "outputId": "419ad6e8-74f3-431f-bd0b-6d78b74a8eb9"
      },
      "source": [
        "import matplotlib.pyplot as plt\n",
        "\n",
        "#Lakukan penjumlahan kolom 'gmv' lalu kelompokkan berdasarkan kolom order_month\n",
        "datasum = data.groupby(['order_month'])['gmv'].sum().reset_index()  #jumlah gmv per bulan - tahun\n",
        "dataavg = data.groupby(['order_month'])['gmv'].mean().reset_index() #rataan gmv per bulan - tahun\n",
        "\n",
        "#definisikan variabel yang akan di plot\n",
        "x = datasum['order_month']\n",
        "y = datasum['gmv']\n",
        "z = dataavg['gmv']\n",
        "\n",
        "# Buat 2 plot dalam satu figure\n",
        "fig, (ax1, ax2) = plt.subplots(2)\n",
        "\n",
        "#ubah size figurenya\n",
        "fig.set_figheight(10)\n",
        "fig.set_figwidth(10)\n",
        "\n",
        "#Beri title\n",
        "ax1.title.set_text('Total GMV pada Tahun 2019')\n",
        "ax2.title.set_text('Rata-rata GMV pada Tahun 2019')\n",
        "\n",
        "#plot hasil\n",
        "ax1.plot(x, y)\n",
        "ax2.plot(x, z)"
      ],
      "execution_count": 69,
      "outputs": [
        {
          "output_type": "execute_result",
          "data": {
            "text/plain": [
              "[<matplotlib.lines.Line2D at 0x7f1e1e2c2e50>]"
            ]
          },
          "metadata": {},
          "execution_count": 69
        },
        {
          "output_type": "display_data",
          "data": {
            "image/png": "[encoded data removed]",
            "text/plain": [
              "<Figure size 720x720 with 2 Axes>"
            ]
          },
          "metadata": {}
        }
      ]
    },
    {
      "cell_type": "code",
      "metadata": {
        "colab": {
          "base_uri": "https://localhost:8080/",
          "height": 518
        },
        "id": "oqV5Fgk1Tz1v",
        "outputId": "146b9fb7-e93a-456e-961d-0fef309970f0"
      },
      "source": [
        "import matplotlib.pyplot as plt\n",
        "\n",
        "#Definisikan data\n",
        "sumtrx  = data.groupby(['order_month'])['order_id'].nunique().reset_index()    \n",
        "sumcust = data.groupby(['order_month'])['customer_id'].nunique().reset_index()\n",
        "\n",
        "#Atur tampilan\n",
        "width = 0.5\n",
        "plt.figure(figsize=(15, 8)) \n",
        "\n",
        "#Menggabungkan antara bar char dan line chart\n",
        "sumtrx['order_id'].plot(kind='bar', width = width, color = 'yellow')\n",
        "sumcust['customer_id'].plot(color = 'red')\n",
        "\n",
        "#Menambahkan anatomi lain pada grafik\n",
        "plt.title('Perbandingan Banyak Transaksi dan Pelanggan tiap Bulan', loc='center', pad=20, fontsize=20, color='blue')\n",
        "plt.legend()\n",
        "ax = plt.gca()\n",
        "ax.set_xticklabels(datasum['order_month'])\n",
        "\n",
        "plt.show()"
      ],
      "execution_count": 102,
      "outputs": [
        {
          "output_type": "display_data",
          "data": {
            "image/png": "[encoded data removed]",
            "text/plain": [
              "<Figure size 1080x576 with 1 Axes>"
            ]
          },
          "metadata": {}
        }
      ]
    }
  ]
}